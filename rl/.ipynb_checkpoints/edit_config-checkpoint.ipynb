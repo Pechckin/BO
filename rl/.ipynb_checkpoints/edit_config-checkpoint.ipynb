{
 "cells": [
  {
   "cell_type": "code",
   "execution_count": 2,
   "metadata": {},
   "outputs": [],
   "source": [
    "import json\n",
    "import gym"
   ]
  },
  {
   "cell_type": "code",
   "execution_count": 3,
   "metadata": {},
   "outputs": [],
   "source": [
    "# КОНФИГ ДЛЯ ЛОКАЛЬНОГО ТЕСТА НА CPU\n",
    "C = dict()\n",
    "C['env'] = 'BreakoutNoFrameskip-v4'\n",
    "C['train_steps'] = 5000\n",
    "C['test_episodes'] = 10\n",
    "C['test_every'] = 1000\n",
    "\n",
    "C['type'] = 'BO'\n",
    "C['num_workers'] = 2\n",
    "\n",
    "C['action_size'] = gym.make(C[\"env\"]).action_space.n\n",
    "\n",
    "C['lr_optim'] = 2.5e-4\n",
    "C['clip'] = 0.5\n",
    "\n",
    "C['buffer_size'] = 5\n",
    "\n",
    "C['num_batches'] = 2\n",
    "C['batch_size'] = 5\n",
    "C['gamma'] = 0.99\n",
    "C['eps'] = 0.1\n",
    "C['entropy_coef'] = 0.01\n",
    "\n",
    "C['int_coef'] = 1\n",
    "C['ext_coef'] = 1\n",
    "\n",
    "\n",
    "C['tay_coef'] = 2\n",
    "C['alpha'] = 1e-8\n",
    "C['bo_warm_up'] = 1e3\n",
    "C['bo_points_dim'] = 10\n",
    "C['scale_bo_y'] = 1\n",
    "\n",
    "C['save_dir'] = '.'\n",
    "\n",
    "C['device'] = 'cpu'\n",
    "\n",
    "with open('config.json', 'w') as outfile:\n",
    "    json.dump(C, outfile, indent=4)"
   ]
  },
  {
   "cell_type": "code",
   "execution_count": 5,
   "metadata": {},
   "outputs": [],
   "source": [
    "# КОНФИГ ДЛЯ ПРОДА ТЕСТА НА GPU\n",
    "C = dict()\n",
    "C['env'] = 'BreakoutNoFrameskip-v4'\n",
    "\n",
    "C['int_coef'] = 1\n",
    "C['ext_coef'] = 1\n",
    "\n",
    "\n",
    "C['train_steps'] = int(1e7)\n",
    "C['test_episodes'] = 20\n",
    "C['test_every'] = 40000\n",
    "\n",
    "C['type'] = 'BO_EI_10_X10_NOISE'\n",
    "C['num_workers'] = 8\n",
    "\n",
    "C['action_size'] = gym.make(C[\"env\"]).action_space.n\n",
    "\n",
    "C['lr_optim'] = 2.5e-4\n",
    "C['clip'] = 0.5\n",
    "\n",
    "C['buffer_size'] = 128\n",
    "\n",
    "C['num_batches'] = 4\n",
    "C['batch_size'] = 32 * 8\n",
    "C['gamma'] = 0.99\n",
    "\n",
    "\n",
    "C['tay_coef'] = 10\n",
    "C['alpha'] = 1e-10\n",
    "C['bo_warm_up'] = 0\n",
    "C['bo_points_dim'] = 10\n",
    "C['scale_bo_y'] = 1\n",
    "\n",
    "C['save_dir'] = '/home/spkulesh/configs'\n",
    "\n",
    "\n",
    "C['eps'] = 0.1\n",
    "C['entropy_coef'] = 0.01\n",
    "C['device'] = 'cuda'\n",
    "\n",
    "with open('config.json', 'w') as outfile:\n",
    "    json.dump(C, outfile, indent=4)"
   ]
  },
  {
   "cell_type": "code",
   "execution_count": null,
   "metadata": {},
   "outputs": [],
   "source": []
  },
  {
   "cell_type": "code",
   "execution_count": null,
   "metadata": {},
   "outputs": [],
   "source": []
  }
 ],
 "metadata": {
  "kernelspec": {
   "display_name": "Python 3",
   "language": "python",
   "name": "python3"
  },
  "language_info": {
   "codemirror_mode": {
    "name": "ipython",
    "version": 3
   },
   "file_extension": ".py",
   "mimetype": "text/x-python",
   "name": "python",
   "nbconvert_exporter": "python",
   "pygments_lexer": "ipython3",
   "version": "3.7.9"
  }
 },
 "nbformat": 4,
 "nbformat_minor": 4
}
